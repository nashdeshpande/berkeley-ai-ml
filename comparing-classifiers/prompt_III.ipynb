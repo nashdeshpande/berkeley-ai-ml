{
 "cells": [
  {
   "cell_type": "markdown",
   "metadata": {},
   "source": [
    "# Practical Application III: Comparing Classifiers\n",
    "\n",
    "**Overview**: In this practical application, your goal is to compare the performance of the classifiers we encountered in this section, namely K Nearest Neighbor, Logistic Regression, Decision Trees, and Support Vector Machines.  We will utilize a dataset related to marketing bank products over the telephone.  \n",
    "\n"
   ]
  },
  {
   "cell_type": "markdown",
   "metadata": {},
   "source": [
    "### Getting Started\n",
    "\n",
    "Our dataset comes from the UCI Machine Learning repository [link](https://archive.ics.uci.edu/ml/datasets/bank+marketing).  The data is from a Portugese banking institution and is a collection of the results of multiple marketing campaigns.  We will make use of the article accompanying the dataset [here](CRISP-DM-BANK.pdf) for more information on the data and features.\n",
    "\n"
   ]
  },
  {
   "cell_type": "markdown",
   "metadata": {},
   "source": [
    "### Problem 1: Understanding the Data\n",
    "\n",
    "To gain a better understanding of the data, please read the information provided in the UCI link above, and examine the **Materials and Methods** section of the paper.  How many marketing campaigns does this data represent?"
   ]
  },
  {
   "cell_type": "markdown",
   "metadata": {},
   "source": [
    " - 17 campaigns, between May 2008 and Nov 2010, corresponding to a total of 79k contacts."
   ]
  },
  {
   "cell_type": "markdown",
   "metadata": {},
   "source": [
    "### Problem 2: Read in the Data\n",
    "\n",
    "Use pandas to read in the dataset `bank-additional-full.csv` and assign to a meaningful variable name."
   ]
  },
  {
   "cell_type": "code",
   "execution_count": 8,
   "metadata": {},
   "outputs": [],
   "source": [
    "import pandas as pd\n",
    "import matplotlib.pyplot as plt\n",
    "import seaborn as sns\n",
    "from sklearn.model_selection import train_test_split\n",
    "from sklearn.preprocessing import StandardScaler\n",
    "from sklearn.pipeline import Pipeline\n",
    "from sklearn.neighbors import KNeighborsClassifier\n",
    "import time\n"
   ]
  },
  {
   "cell_type": "code",
   "execution_count": 36,
   "metadata": {},
   "outputs": [],
   "source": [
    "df = pd.read_csv('data/bank-additional-full.csv', sep = ';')"
   ]
  },
  {
   "cell_type": "code",
   "execution_count": 31,
   "metadata": {},
   "outputs": [
    {
     "data": {
      "text/html": [
       "<div>\n",
       "<style scoped>\n",
       "    .dataframe tbody tr th:only-of-type {\n",
       "        vertical-align: middle;\n",
       "    }\n",
       "\n",
       "    .dataframe tbody tr th {\n",
       "        vertical-align: top;\n",
       "    }\n",
       "\n",
       "    .dataframe thead th {\n",
       "        text-align: right;\n",
       "    }\n",
       "</style>\n",
       "<table border=\"1\" class=\"dataframe\">\n",
       "  <thead>\n",
       "    <tr style=\"text-align: right;\">\n",
       "      <th></th>\n",
       "      <th>age</th>\n",
       "      <th>duration</th>\n",
       "      <th>campaign</th>\n",
       "      <th>pdays</th>\n",
       "      <th>previous</th>\n",
       "      <th>emp.var.rate</th>\n",
       "      <th>cons.price.idx</th>\n",
       "      <th>cons.conf.idx</th>\n",
       "      <th>euribor3m</th>\n",
       "      <th>nr.employed</th>\n",
       "    </tr>\n",
       "  </thead>\n",
       "  <tbody>\n",
       "    <tr>\n",
       "      <th>count</th>\n",
       "      <td>41188.00000</td>\n",
       "      <td>41188.000000</td>\n",
       "      <td>41188.000000</td>\n",
       "      <td>41188.000000</td>\n",
       "      <td>41188.000000</td>\n",
       "      <td>41188.000000</td>\n",
       "      <td>41188.000000</td>\n",
       "      <td>41188.000000</td>\n",
       "      <td>41188.000000</td>\n",
       "      <td>41188.000000</td>\n",
       "    </tr>\n",
       "    <tr>\n",
       "      <th>mean</th>\n",
       "      <td>40.02406</td>\n",
       "      <td>258.285010</td>\n",
       "      <td>2.567593</td>\n",
       "      <td>962.475454</td>\n",
       "      <td>0.172963</td>\n",
       "      <td>0.081886</td>\n",
       "      <td>93.575664</td>\n",
       "      <td>-40.502600</td>\n",
       "      <td>3.621291</td>\n",
       "      <td>5167.035911</td>\n",
       "    </tr>\n",
       "    <tr>\n",
       "      <th>std</th>\n",
       "      <td>10.42125</td>\n",
       "      <td>259.279249</td>\n",
       "      <td>2.770014</td>\n",
       "      <td>186.910907</td>\n",
       "      <td>0.494901</td>\n",
       "      <td>1.570960</td>\n",
       "      <td>0.578840</td>\n",
       "      <td>4.628198</td>\n",
       "      <td>1.734447</td>\n",
       "      <td>72.251528</td>\n",
       "    </tr>\n",
       "    <tr>\n",
       "      <th>min</th>\n",
       "      <td>17.00000</td>\n",
       "      <td>0.000000</td>\n",
       "      <td>1.000000</td>\n",
       "      <td>0.000000</td>\n",
       "      <td>0.000000</td>\n",
       "      <td>-3.400000</td>\n",
       "      <td>92.201000</td>\n",
       "      <td>-50.800000</td>\n",
       "      <td>0.634000</td>\n",
       "      <td>4963.600000</td>\n",
       "    </tr>\n",
       "    <tr>\n",
       "      <th>25%</th>\n",
       "      <td>32.00000</td>\n",
       "      <td>102.000000</td>\n",
       "      <td>1.000000</td>\n",
       "      <td>999.000000</td>\n",
       "      <td>0.000000</td>\n",
       "      <td>-1.800000</td>\n",
       "      <td>93.075000</td>\n",
       "      <td>-42.700000</td>\n",
       "      <td>1.344000</td>\n",
       "      <td>5099.100000</td>\n",
       "    </tr>\n",
       "    <tr>\n",
       "      <th>50%</th>\n",
       "      <td>38.00000</td>\n",
       "      <td>180.000000</td>\n",
       "      <td>2.000000</td>\n",
       "      <td>999.000000</td>\n",
       "      <td>0.000000</td>\n",
       "      <td>1.100000</td>\n",
       "      <td>93.749000</td>\n",
       "      <td>-41.800000</td>\n",
       "      <td>4.857000</td>\n",
       "      <td>5191.000000</td>\n",
       "    </tr>\n",
       "    <tr>\n",
       "      <th>75%</th>\n",
       "      <td>47.00000</td>\n",
       "      <td>319.000000</td>\n",
       "      <td>3.000000</td>\n",
       "      <td>999.000000</td>\n",
       "      <td>0.000000</td>\n",
       "      <td>1.400000</td>\n",
       "      <td>93.994000</td>\n",
       "      <td>-36.400000</td>\n",
       "      <td>4.961000</td>\n",
       "      <td>5228.100000</td>\n",
       "    </tr>\n",
       "    <tr>\n",
       "      <th>max</th>\n",
       "      <td>98.00000</td>\n",
       "      <td>4918.000000</td>\n",
       "      <td>56.000000</td>\n",
       "      <td>999.000000</td>\n",
       "      <td>7.000000</td>\n",
       "      <td>1.400000</td>\n",
       "      <td>94.767000</td>\n",
       "      <td>-26.900000</td>\n",
       "      <td>5.045000</td>\n",
       "      <td>5228.100000</td>\n",
       "    </tr>\n",
       "  </tbody>\n",
       "</table>\n",
       "</div>"
      ],
      "text/plain": [
       "               age      duration      campaign         pdays      previous  \\\n",
       "count  41188.00000  41188.000000  41188.000000  41188.000000  41188.000000   \n",
       "mean      40.02406    258.285010      2.567593    962.475454      0.172963   \n",
       "std       10.42125    259.279249      2.770014    186.910907      0.494901   \n",
       "min       17.00000      0.000000      1.000000      0.000000      0.000000   \n",
       "25%       32.00000    102.000000      1.000000    999.000000      0.000000   \n",
       "50%       38.00000    180.000000      2.000000    999.000000      0.000000   \n",
       "75%       47.00000    319.000000      3.000000    999.000000      0.000000   \n",
       "max       98.00000   4918.000000     56.000000    999.000000      7.000000   \n",
       "\n",
       "       emp.var.rate  cons.price.idx  cons.conf.idx     euribor3m   nr.employed  \n",
       "count  41188.000000    41188.000000   41188.000000  41188.000000  41188.000000  \n",
       "mean       0.081886       93.575664     -40.502600      3.621291   5167.035911  \n",
       "std        1.570960        0.578840       4.628198      1.734447     72.251528  \n",
       "min       -3.400000       92.201000     -50.800000      0.634000   4963.600000  \n",
       "25%       -1.800000       93.075000     -42.700000      1.344000   5099.100000  \n",
       "50%        1.100000       93.749000     -41.800000      4.857000   5191.000000  \n",
       "75%        1.400000       93.994000     -36.400000      4.961000   5228.100000  \n",
       "max        1.400000       94.767000     -26.900000      5.045000   5228.100000  "
      ]
     },
     "execution_count": 31,
     "metadata": {},
     "output_type": "execute_result"
    }
   ],
   "source": [
    "df.describe()"
   ]
  },
  {
   "cell_type": "markdown",
   "metadata": {},
   "source": [
    "### Problem 3: Understanding the Features\n",
    "\n",
    "\n",
    "Examine the data description below, and determine if any of the features are missing values or need to be coerced to a different data type.\n",
    "\n",
    "\n",
    "```\n",
    "Input variables:\n",
    "# bank client data:\n",
    "1 - age (numeric)\n",
    "2 - job : type of job (categorical: 'admin.','blue-collar','entrepreneur','housemaid','management','retired','self-employed','services','student','technician','unemployed','unknown')\n",
    "3 - marital : marital status (categorical: 'divorced','married','single','unknown'; note: 'divorced' means divorced or widowed)\n",
    "4 - education (categorical: 'basic.4y','basic.6y','basic.9y','high.school','illiterate','professional.course','university.degree','unknown')\n",
    "5 - default: has credit in default? (categorical: 'no','yes','unknown')\n",
    "6 - housing: has housing loan? (categorical: 'no','yes','unknown')\n",
    "7 - loan: has personal loan? (categorical: 'no','yes','unknown')\n",
    "# related with the last contact of the current campaign:\n",
    "8 - contact: contact communication type (categorical: 'cellular','telephone')\n",
    "9 - month: last contact month of year (categorical: 'jan', 'feb', 'mar', ..., 'nov', 'dec')\n",
    "10 - day_of_week: last contact day of the week (categorical: 'mon','tue','wed','thu','fri')\n",
    "11 - duration: last contact duration, in seconds (numeric). Important note: this attribute highly affects the output target (e.g., if duration=0 then y='no'). Yet, the duration is not known before a call is performed. Also, after the end of the call y is obviously known. Thus, this input should only be included for benchmark purposes and should be discarded if the intention is to have a realistic predictive model.\n",
    "# other attributes:\n",
    "12 - campaign: number of contacts performed during this campaign and for this client (numeric, includes last contact)\n",
    "13 - pdays: number of days that passed by after the client was last contacted from a previous campaign (numeric; 999 means client was not previously contacted)\n",
    "14 - previous: number of contacts performed before this campaign and for this client (numeric)\n",
    "15 - poutcome: outcome of the previous marketing campaign (categorical: 'failure','nonexistent','success')\n",
    "# social and economic context attributes\n",
    "16 - emp.var.rate: employment variation rate - quarterly indicator (numeric)\n",
    "17 - cons.price.idx: consumer price index - monthly indicator (numeric)\n",
    "18 - cons.conf.idx: consumer confidence index - monthly indicator (numeric)\n",
    "19 - euribor3m: euribor 3 month rate - daily indicator (numeric)\n",
    "20 - nr.employed: number of employees - quarterly indicator (numeric)\n",
    "\n",
    "Output variable (desired target):\n",
    "21 - y - has the client subscribed a term deposit? (binary: 'yes','no')\n",
    "```\n",
    "\n"
   ]
  },
  {
   "cell_type": "code",
   "execution_count": 32,
   "metadata": {},
   "outputs": [
    {
     "name": "stdout",
     "output_type": "stream",
     "text": [
      "age               0\n",
      "job               0\n",
      "marital           0\n",
      "education         0\n",
      "default           0\n",
      "housing           0\n",
      "loan              0\n",
      "contact           0\n",
      "month             0\n",
      "day_of_week       0\n",
      "duration          0\n",
      "campaign          0\n",
      "pdays             0\n",
      "previous          0\n",
      "poutcome          0\n",
      "emp.var.rate      0\n",
      "cons.price.idx    0\n",
      "cons.conf.idx     0\n",
      "euribor3m         0\n",
      "nr.employed       0\n",
      "y                 0\n",
      "dtype: int64\n"
     ]
    }
   ],
   "source": [
    "print(df.isnull().sum())"
   ]
  },
  {
   "cell_type": "code",
   "execution_count": 10,
   "metadata": {},
   "outputs": [
    {
     "name": "stdout",
     "output_type": "stream",
     "text": [
      "\n",
      "Number of duplicate rows: 12\n"
     ]
    }
   ],
   "source": [
    "print(\"\\nNumber of duplicate rows:\", df.duplicated().sum())"
   ]
  },
  {
   "cell_type": "code",
   "execution_count": 37,
   "metadata": {},
   "outputs": [
    {
     "name": "stdout",
     "output_type": "stream",
     "text": [
      "<class 'pandas.core.frame.DataFrame'>\n",
      "RangeIndex: 41188 entries, 0 to 41187\n",
      "Data columns (total 21 columns):\n",
      " #   Column          Non-Null Count  Dtype  \n",
      "---  ------          --------------  -----  \n",
      " 0   age             41188 non-null  int64  \n",
      " 1   job             41188 non-null  object \n",
      " 2   marital         41188 non-null  object \n",
      " 3   education       41188 non-null  object \n",
      " 4   default         41188 non-null  object \n",
      " 5   housing         41188 non-null  object \n",
      " 6   loan            41188 non-null  object \n",
      " 7   contact         41188 non-null  object \n",
      " 8   month           41188 non-null  object \n",
      " 9   day_of_week     41188 non-null  object \n",
      " 10  duration        41188 non-null  int64  \n",
      " 11  campaign        41188 non-null  int64  \n",
      " 12  pdays           41188 non-null  int64  \n",
      " 13  previous        41188 non-null  int64  \n",
      " 14  poutcome        41188 non-null  object \n",
      " 15  emp.var.rate    41188 non-null  float64\n",
      " 16  cons.price.idx  41188 non-null  float64\n",
      " 17  cons.conf.idx   41188 non-null  float64\n",
      " 18  euribor3m       41188 non-null  float64\n",
      " 19  nr.employed     41188 non-null  float64\n",
      " 20  y               41188 non-null  object \n",
      "dtypes: float64(5), int64(5), object(11)\n",
      "memory usage: 6.6+ MB\n",
      "job\n",
      "admin.           10422\n",
      "blue-collar       9254\n",
      "technician        6743\n",
      "services          3969\n",
      "management        2924\n",
      "retired           1720\n",
      "entrepreneur      1456\n",
      "self-employed     1421\n",
      "housemaid         1060\n",
      "unemployed        1014\n",
      "student            875\n",
      "unknown            330\n",
      "Name: count, dtype: int64\n"
     ]
    },
    {
     "data": {
      "text/plain": [
       "marital\n",
       "married     24928\n",
       "single      11568\n",
       "divorced     4612\n",
       "unknown        80\n",
       "Name: count, dtype: int64"
      ]
     },
     "execution_count": 37,
     "metadata": {},
     "output_type": "execute_result"
    }
   ],
   "source": [
    "df.info()\n",
    "print(df['job'].value_counts())\n",
    "df['marital'].value_counts()\n"
   ]
  },
  {
   "cell_type": "markdown",
   "metadata": {},
   "source": [
    "### Problem 4: Understanding the Task\n",
    "\n",
    "After examining the description and data, your goal now is to clearly state the *Business Objective* of the task.  State the objective below."
   ]
  },
  {
   "cell_type": "markdown",
   "metadata": {},
   "source": [
    "- The business goal is to find a model that can explain success of a contact, i.e. if the client subscribes to the deposit. Such models can\n",
    "increase campaign efficiency by identifying the main characteristics that affect success, helping in better management of the available resources (e.g. human effort, phone calls, time) and selection of a high quality and affordable set of potential buying customers."
   ]
  },
  {
   "cell_type": "markdown",
   "metadata": {},
   "source": [
    "### Problem 5: Engineering Features\n",
    "\n",
    "Now that you understand your business objective, we will build a basic model to get started.  Before we can do this, we must work to encode the data.  Using just the bank information features, prepare the features and target column for modeling with appropriate encoding and transformations."
   ]
  },
  {
   "cell_type": "code",
   "execution_count": 11,
   "metadata": {},
   "outputs": [],
   "source": [
    "bank_features = ['age', 'job', 'marital', 'education', 'default', 'loan'] \n",
    "X = df[bank_features]\n",
    "X_encoded = pd.get_dummies(X, columns=['age', 'job', 'marital', 'education', 'default', 'loan'], drop_first=True)\n",
    "y = df['y'].map({'yes': 1, 'no': 0})"
   ]
  },
  {
   "cell_type": "markdown",
   "metadata": {},
   "source": [
    "### Problem 6: Train/Test Split\n",
    "\n",
    "With your data prepared, split it into a train and test set."
   ]
  },
  {
   "cell_type": "code",
   "execution_count": 12,
   "metadata": {},
   "outputs": [],
   "source": [
    "X_train, X_test, y_train, y_test = train_test_split(X_encoded, y, test_size=0.2, random_state=42)"
   ]
  },
  {
   "cell_type": "markdown",
   "metadata": {},
   "source": [
    "### Problem 7: A Baseline Model\n",
    "\n",
    "Before we build our first model, we want to establish a baseline.  What is the baseline performance that our classifier should aim to beat?"
   ]
  },
  {
   "cell_type": "code",
   "execution_count": 13,
   "metadata": {},
   "outputs": [
    {
     "name": "stdout",
     "output_type": "stream",
     "text": [
      "Baseline accuracy (majority class): 0.8873\n"
     ]
    }
   ],
   "source": [
    "baseline = y.value_counts(normalize=True).max()\n",
    "print(f\"Baseline accuracy (majority class): {baseline:.4f}\")"
   ]
  },
  {
   "cell_type": "markdown",
   "metadata": {},
   "source": [
    "### Problem 8: A Simple Model\n",
    "\n",
    "Use Logistic Regression to build a basic model on your data.  "
   ]
  },
  {
   "cell_type": "code",
   "execution_count": 14,
   "metadata": {},
   "outputs": [],
   "source": [
    "from sklearn.linear_model import LogisticRegression\n",
    "from sklearn.metrics import accuracy_score, confusion_matrix, classification_report\n",
    "\n",
    "start = time.time()\n",
    "model = LogisticRegression(max_iter=1000)\n",
    "model.fit(X_train, y_train)\n",
    "lr_train_time = time.time() - start\n",
    "\n",
    "y_pred = model.predict(X_test)"
   ]
  },
  {
   "cell_type": "markdown",
   "metadata": {},
   "source": [
    "### Problem 9: Score the Model\n",
    "\n",
    "What is the accuracy of your model?"
   ]
  },
  {
   "cell_type": "code",
   "execution_count": 15,
   "metadata": {},
   "outputs": [
    {
     "name": "stdout",
     "output_type": "stream",
     "text": [
      "Train Accuracy: 0.8881942336874051\n",
      "Test Accuracy: 0.8866229667394999\n",
      "Confusion Matrix:\n",
      " [[7283   20]\n",
      " [ 914   21]]\n",
      "Classification Report:\n",
      "               precision    recall  f1-score   support\n",
      "\n",
      "           0       0.89      1.00      0.94      7303\n",
      "           1       0.51      0.02      0.04       935\n",
      "\n",
      "    accuracy                           0.89      8238\n",
      "   macro avg       0.70      0.51      0.49      8238\n",
      "weighted avg       0.85      0.89      0.84      8238\n",
      "\n"
     ]
    },
    {
     "data": {
      "image/png": "[encoded data removed]",
      "text/plain": [
       "<Figure size 1000x600 with 2 Axes>"
      ]
     },
     "metadata": {},
     "output_type": "display_data"
    }
   ],
   "source": [
    "logreg_train_acc = model.score(X_train, y_train)\n",
    "lr_accuracy = accuracy_score(y_test, y_pred)\n",
    "print (\"Train Accuracy:\", logreg_train_acc)\n",
    "print(\"Test Accuracy:\", lr_accuracy)\n",
    "print(\"Confusion Matrix:\\n\", confusion_matrix(y_test, y_pred))\n",
    "print(\"Classification Report:\\n\", classification_report(y_test, y_pred))\n",
    "\n",
    "plt.figure(figsize=(10, 6))\n",
    "sns.heatmap(confusion_matrix(y_test, y_pred), annot=True, fmt='d', cmap='Blues')\n",
    "plt.title('Confusion Matrix')\n",
    "plt.xlabel('Predicted')\n",
    "plt.ylabel('Actual')\n",
    "plt.show()"
   ]
  },
  {
   "cell_type": "markdown",
   "metadata": {},
   "source": [
    "### Problem 10: Model Comparisons\n",
    "\n",
    "Now, we aim to compare the performance of the Logistic Regression model to our KNN algorithm, Decision Tree, and SVM models.  Using the default settings for each of the models, fit and score each.  Also, be sure to compare the fit time of each of the models.  Present your findings in a `DataFrame` similar to that below:\n",
    "\n",
    "| Model | Train Time | Train Accuracy | Test Accuracy |\n",
    "| ----- | ---------- | -------------  | -----------   |\n",
    "|     |    |.     |.     |"
   ]
  },
  {
   "cell_type": "code",
   "execution_count": 16,
   "metadata": {},
   "outputs": [],
   "source": [
    "#KNN Classifier\n",
    "start = time.time()\n",
    "knn_pipe = Pipeline([\n",
    "    ('scaler', StandardScaler()),\n",
    "    ('knn', KNeighborsClassifier())\n",
    "])\n",
    "knn_pipe.fit(X_train, y_train)\n",
    "knn_train_time = time.time() - start\n",
    "\n",
    "y_pred = knn_pipe.predict(X_test)"
   ]
  },
  {
   "cell_type": "code",
   "execution_count": 17,
   "metadata": {},
   "outputs": [
    {
     "name": "stdout",
     "output_type": "stream",
     "text": [
      "KNN Training Time: 0.05283784866333008\n",
      "KNN Training Accuracy: 0.8874962063732929\n",
      "KNN Test Accuracy: 0.8718135469774217\n"
     ]
    }
   ],
   "source": [
    "knn_train_acc = knn_pipe.score(X_train, y_train)\n",
    "knn_test_acc = knn_pipe.score(X_test, y_test)\n",
    "print(\"KNN Training Time:\", knn_train_time)\n",
    "print(\"KNN Training Accuracy:\", knn_train_acc)\n",
    "print(\"KNN Test Accuracy:\", knn_test_acc)"
   ]
  },
  {
   "cell_type": "code",
   "execution_count": 21,
   "metadata": {},
   "outputs": [
    {
     "name": "stdout",
     "output_type": "stream",
     "text": [
      "Decision Tree Training Time: 0.212996244430542\n",
      "Training Accuracy:  0.91\n",
      "Test Accuracy:  0.87\n"
     ]
    }
   ],
   "source": [
    "#Decision Tree Classifier\n",
    "from sklearn.tree import DecisionTreeClassifier\n",
    "start = time.time()\n",
    "dtree = DecisionTreeClassifier(random_state=42).fit(X_train, y_train)\n",
    "dtree_train_time = time.time() - start\n",
    "dtree_train_acc = dtree.score(X_train, y_train)\n",
    "dtree_test_acc = dtree.score(X_test, y_test)\n",
    "### END SOLUTION\n",
    "\n",
    "print(\"Decision Tree Training Time:\", dtree_train_time)\n",
    "print(f'Training Accuracy: {dtree_train_acc: .2f}')\n",
    "print(f'Test Accuracy: {dtree_test_acc: .2f}')\n"
   ]
  },
  {
   "cell_type": "code",
   "execution_count": 22,
   "metadata": {},
   "outputs": [
    {
     "name": "stdout",
     "output_type": "stream",
     "text": [
      "SVM Training Time: 41.16553592681885\n",
      "SVM Training Accuracy: 0.8891047040971168\n",
      "SVM Test Accuracy: 0.8862588006797767\n"
     ]
    }
   ],
   "source": [
    "#SVM Classifier\n",
    "from sklearn.svm import SVC\n",
    "start = time.time()\n",
    "svm_model = SVC(random_state=42)\n",
    "svm_model.fit(X_train, y_train)\n",
    "svm_train_time = time.time() - start\n",
    "\n",
    "svm_train_acc = svm_model.score(X_train, y_train)\n",
    "svm_test_acc = svm_model.score(X_test, y_test)\n",
    "\n",
    "print(\"SVM Training Time:\", svm_train_time)\n",
    "print(\"SVM Training Accuracy:\", svm_train_acc)\n",
    "print(\"SVM Test Accuracy:\", svm_test_acc)"
   ]
  },
  {
   "cell_type": "code",
   "execution_count": 39,
   "metadata": {},
   "outputs": [
    {
     "name": "stdout",
     "output_type": "stream",
     "text": [
      "                 Model  Train Time  Train Accuracy  Test Accuracy\n",
      "0  Logistic Regression    0.189729        0.888194       0.886623\n",
      "1                  KNN    0.052838        0.887496       0.871814\n",
      "2        Decision Tree    0.212996        0.907830       0.872663\n",
      "3                  SVM   41.165536        0.889105       0.886259\n"
     ]
    }
   ],
   "source": [
    "results_df = pd.DataFrame({\n",
    "    'Model': ['Logistic Regression', 'KNN', 'Decision Tree', 'SVM'],\n",
    "    'Train Time': [lr_train_time, knn_train_time, dtree_train_time, svm_train_time],\n",
    "    'Train Accuracy': [logreg_train_acc, knn_train_acc, dtree_train_acc, svm_train_acc],\n",
    "    'Test Accuracy': [lr_accuracy, knn_test_acc, dtree_test_acc, svm_test_acc]\n",
    "})\n",
    "print(results_df)"
   ]
  },
  {
   "cell_type": "markdown",
   "metadata": {},
   "source": [
    "### Problem 11: Improving the Model\n",
    "\n",
    "Now that we have some basic models on the board, we want to try to improve these.  Below, we list a few things to explore in this pursuit.\n",
    "\n",
    "- More feature engineering and exploration.  For example, should we keep the gender feature?  Why or why not?\n",
    "- Hyperparameter tuning and grid search.  All of our models have additional hyperparameters to tune and explore.  For example the number of neighbors in KNN or the maximum depth of a Decision Tree.  \n",
    "- Adjust your performance metric"
   ]
  },
  {
   "cell_type": "code",
   "execution_count": 27,
   "metadata": {},
   "outputs": [
    {
     "name": "stdout",
     "output_type": "stream",
     "text": [
      "Best Parameters: {'criterion': 'gini', 'max_depth': 5, 'min_samples_split': 2}\n",
      "Best Cross-Validation Score: 0.8871927162367224\n",
      "Best Model: DecisionTreeClassifier(max_depth=5, random_state=42)\n",
      "Best Model Depth: 5\n",
      "Best Model Training Accuracy: 0.8883763277693475\n",
      "Best Model Test Accuracy: 0.8862588006797767\n"
     ]
    }
   ],
   "source": [
    "#decision tree hyperparameter tuning\n",
    "from sklearn.model_selection import GridSearchCV\n",
    "\n",
    "params = {\n",
    "    'criterion': ['gini', 'entropy'],\n",
    "    'max_depth': [None, 5, 10, 15],\n",
    "    'min_samples_split': [2, 5, 10]\n",
    "}\n",
    "\n",
    "grid_search = GridSearchCV(DecisionTreeClassifier(random_state=42), param_grid=params, cv=5)\n",
    "grid_search.fit(X_train, y_train)\n",
    "\n",
    "best_params = grid_search.best_params_\n",
    "best_score = grid_search.best_score_\n",
    "\n",
    "print(\"Best Parameters:\", best_params)\n",
    "print(\"Best Cross-Validation Score:\", best_score)\n",
    "best_model = grid_search.best_estimator_\n",
    "best_depth = best_model.get_depth()\n",
    "best_model_train_acc = best_model.score(X_train, y_train)\n",
    "best_model_test_acc = best_model.score(X_test, y_test)\n",
    "\n",
    "print(\"Best Model:\", best_model)\n",
    "print (\"Best Model Depth:\", best_depth)\n",
    "print(\"Best Model Training Accuracy:\", best_model_train_acc)\n",
    "print(\"Best Model Test Accuracy:\", best_model_test_acc)"
   ]
  },
  {
   "cell_type": "code",
   "execution_count": null,
   "metadata": {},
   "outputs": [
    {
     "name": "stdout",
     "output_type": "stream",
     "text": [
      "Best KNN Parameters: {'knn__algorithm': 'auto', 'knn__n_neighbors': 7, 'knn__weights': 'uniform'}\n",
      "Best KNN Cross-Validation Score: 0.8797875569044006\n",
      "Best KNN Model: Pipeline(steps=[('scaler', StandardScaler()),\n",
      "                ('knn', KNeighborsClassifier(n_neighbors=7))])\n",
      "Best KNN Model Training Accuracy: 0.8877086494688923\n",
      "Best KNN Model Test Accuracy: 0.8787327021121631\n"
     ]
    }
   ],
   "source": [
    "#KNN hyperparameter tuning\n",
    "from sklearn.model_selection import GridSearchCV\n",
    "\n",
    "knn_params = {\n",
    "    'knn__n_neighbors': [1, 5, 7],\n",
    "    'knn__weights': ['uniform', 'distance'],\n",
    "    'knn__algorithm': ['auto', 'ball_tree', 'kd_tree']\n",
    "}\n",
    "\n",
    "knn_grid_search = GridSearchCV(knn_pipe, param_grid=knn_params, cv=5)\n",
    "knn_grid_search.fit(X_train, y_train)\n",
    "\n",
    "best_knn_params = knn_grid_search.best_params_\n",
    "best_knn_score = knn_grid_search.best_score_\n",
    "\n",
    "print(\"Best KNN Parameters:\", best_knn_params)\n",
    "print(\"Best KNN Cross-Validation Score:\", best_knn_score)\n",
    "best_knn_model = knn_grid_search.best_estimator_\n",
    "best_knn_model_train_acc = best_knn_model.score(X_train, y_train)\n",
    "best_knn_model_test_acc = best_knn_model.score(X_test, y_test)\n",
    "\n",
    "print(\"Best KNN Model:\", best_knn_model)\n",
    "print(\"Best KNN Model Training Accuracy:\", best_knn_model_train_acc)\n",
    "print(\"Best KNN Model Test Accuracy:\", best_knn_model_test_acc)"
   ]
  },
  {
   "cell_type": "code",
   "execution_count": null,
   "metadata": {},
   "outputs": [],
   "source": [
    "#Logistic Regression hyperparameter tuning\n",
    "from sklearn.model_selection import GridSearchCV\n",
    "\n",
    "logreg_params = [\n",
    "    {'C': [0.01, 0.1, 1, 10], 'penalty': ['l2'], 'solver': ['lbfgs', 'liblinear']},\n",
    "    {'C': [0.01, 0.1, 1, 10], 'penalty': [None], 'solver': ['lbfgs']}\n",
    "]\n",
    "\n",
    "logreg_grid_search = GridSearchCV(LogisticRegression(max_iter=1000), param_grid=logreg_params, cv=5)\n",
    "logreg_grid_search.fit(X_train, y_train)\n",
    "\n",
    "best_logreg_params = logreg_grid_search.best_params_\n",
    "best_logreg_score = logreg_grid_search.best_score_\n",
    "\n",
    "print(\"Best Logistic Regression Parameters:\", best_logreg_params)\n",
    "print(\"Best Logistic Regression Cross-Validation Score:\", best_logreg_score)\n",
    "best_logreg_model = logreg_grid_search.best_estimator_\n",
    "best_logreg_model_train_acc = best_logreg_model.score(X_train, y_train)\n",
    "best_logreg_model_test_acc = best_logreg_model.score(X_test, y_test)\n",
    "\n",
    "print(\"Best Logistic Regression Model:\", best_logreg_model)\n",
    "print(\"Best Logistic Regression Model Training Accuracy:\", best_logreg_model_train_acc)\n",
    "print(\"Best Logistic Regression Model Test Accuracy:\", best_logreg_model_test_acc)"
   ]
  },
  {
   "cell_type": "code",
   "execution_count": 12,
   "metadata": {},
   "outputs": [
    {
     "name": "stdout",
     "output_type": "stream",
     "text": [
      "Best SVM Parameters: {'gamma': 0.1, 'kernel': 'rbf'}\n",
      "Best SVM Cross-Validation Score: 0.8873748103186646\n",
      "SVM Test Accuracy: 0.8866229667394999\n",
      "Best SVM Model Training Accuracy: 0.8878603945371776\n",
      "Best SVM Model Test Accuracy: 0.8866229667394999\n"
     ]
    }
   ],
   "source": [
    "#SVM hyperparameter tuning\n",
    "from sklearn.model_selection import GridSearchCV\n",
    "\n",
    "params = {\n",
    "    'kernel': ['rbf', 'linear'],\n",
    "    'gamma': [0.1, 1.0, 10.0]\n",
    "}\n",
    "\n",
    "grid = GridSearchCV(svm_model, param_grid=params).fit(X_train, y_train)\n",
    "grid_score = grid.score(X_test, y_test)\n",
    "\n",
    "print(\"Best SVM Parameters:\", grid.best_params_)\n",
    "print(\"Best SVM Cross-Validation Score:\", grid.best_score_)\n",
    "print(\"SVM Test Accuracy:\", grid_score)\n",
    "print(\"Best SVM Model Training Accuracy:\", grid.best_estimator_.score(X_train, y_train))\n",
    "print(\"Best SVM Model Test Accuracy:\", grid.best_estimator_.score(X_test, y_test))"
   ]
  },
  {
   "cell_type": "code",
   "execution_count": null,
   "metadata": {},
   "outputs": [],
   "source": [
    "from sklearn.metrics import classification_report, roc_auc_score, RocCurveDisplay\n",
    "import matplotlib.pyplot as plt\n",
    "\n",
    "def evaluate_model(model, X_test, y_test):\n",
    "    \"\"\"Prints classification report and ROC AUC for a given model.\"\"\"\n",
    "    y_pred = model.predict(X_test)\n",
    "    print(classification_report(y_test, y_pred))\n",
    "    if hasattr(model, \"predict_proba\"):\n",
    "        y_proba = model.predict_proba(X_test)[:, 1]\n",
    "        print(\"ROC AUC:\", roc_auc_score(y_test, y_proba))\n",
    "        RocCurveDisplay.from_estimator(model, X_test, y_test)\n",
    "        plt.show()\n",
    "    else:\n",
    "        print(\"ROC AUC not available for this model.\")"
   ]
  },
  {
   "cell_type": "code",
   "execution_count": null,
   "metadata": {},
   "outputs": [
    {
     "name": "stdout",
     "output_type": "stream",
     "text": [
      "Evaluating Logistic Regression Model:\n",
      "              precision    recall  f1-score   support\n",
      "\n",
      "           0       0.89      1.00      0.94      7303\n",
      "           1       0.51      0.02      0.04       935\n",
      "\n",
      "    accuracy                           0.89      8238\n",
      "   macro avg       0.70      0.51      0.49      8238\n",
      "weighted avg       0.85      0.89      0.84      8238\n",
      "\n",
      "ROC AUC: 0.6552951281467363\n"
     ]
    },
    {
     "data": {
      "image/png": "[encoded data removed]",
      "text/plain": [
       "<Figure size 640x480 with 1 Axes>"
      ]
     },
     "metadata": {},
     "output_type": "display_data"
    },
    {
     "name": "stdout",
     "output_type": "stream",
     "text": [
      "Evaluating KNN Model:\n",
      "              precision    recall  f1-score   support\n",
      "\n",
      "           0       0.89      0.98      0.93      7303\n",
      "           1       0.25      0.06      0.10       935\n",
      "\n",
      "    accuracy                           0.87      8238\n",
      "   macro avg       0.57      0.52      0.52      8238\n",
      "weighted avg       0.82      0.87      0.84      8238\n",
      "\n",
      "ROC AUC: 0.5896120633158595\n"
     ]
    },
    {
     "data": {
      "image/png": "[encoded data removed]",
      "text/plain": [
       "<Figure size 640x480 with 1 Axes>"
      ]
     },
     "metadata": {},
     "output_type": "display_data"
    },
    {
     "name": "stdout",
     "output_type": "stream",
     "text": [
      "Evaluating Decision Tree Model:\n",
      "              precision    recall  f1-score   support\n",
      "\n",
      "           0       0.89      0.98      0.93      7303\n",
      "           1       0.26      0.07      0.10       935\n",
      "\n",
      "    accuracy                           0.87      8238\n",
      "   macro avg       0.57      0.52      0.52      8238\n",
      "weighted avg       0.82      0.87      0.84      8238\n",
      "\n",
      "ROC AUC: 0.6049223050229888\n"
     ]
    },
    {
     "data": {
      "image/png": "[encoded data removed]",
      "text/plain": [
       "<Figure size 640x480 with 1 Axes>"
      ]
     },
     "metadata": {},
     "output_type": "display_data"
    },
    {
     "name": "stdout",
     "output_type": "stream",
     "text": [
      "Evaluating SVM Model:\n",
      "              precision    recall  f1-score   support\n",
      "\n",
      "           0       0.89      1.00      0.94      7303\n",
      "           1       0.45      0.01      0.02       935\n",
      "\n",
      "    accuracy                           0.89      8238\n",
      "   macro avg       0.67      0.50      0.48      8238\n",
      "weighted avg       0.84      0.89      0.84      8238\n",
      "\n",
      "ROC AUC not available for this model.\n"
     ]
    }
   ],
   "source": [
    "# Generate evaluation reports for all models\n",
    "print(\"Evaluating Logistic Regression Model:\")\n",
    "evaluate_model(model, X_test, y_test)\n",
    "print(\"Evaluating KNN Model:\")\n",
    "evaluate_model(knn_pipe, X_test, y_test)\n",
    "print(\"Evaluating Decision Tree Model:\")\n",
    "evaluate_model(dtree, X_test, y_test)\n",
    "print(\"Evaluating SVM Model:\")\n",
    "evaluate_model(svm_model, X_test, y_test)"
   ]
  },
  {
   "cell_type": "code",
   "execution_count": 40,
   "metadata": {},
   "outputs": [
    {
     "name": "stdout",
     "output_type": "stream",
     "text": [
      "                 Model  Test Accuracy  Precision    Recall  F1-score   ROC AUC\n",
      "0  Logistic Regression       0.886623   0.512195  0.022460  0.043033  0.655295\n",
      "1                  KNN       0.871814   0.248963  0.064171  0.102041  0.589612\n",
      "2        Decision Tree       0.872663   0.258475  0.065241  0.104184  0.604922\n",
      "3                  SVM       0.886259   0.450000  0.009626  0.018848       N/A\n"
     ]
    }
   ],
   "source": [
    "from sklearn.metrics import precision_score, recall_score, f1_score, roc_auc_score\n",
    "summary = []\n",
    "models = [\n",
    "    (\"Logistic Regression\", model),\n",
    "    (\"KNN\", knn_pipe),\n",
    "    (\"Decision Tree\", dtree),\n",
    "    (\"SVM\", svm_model)\n",
    " ]\n",
    "for name, mdl in models:\n",
    "    y_pred = mdl.predict(X_test)\n",
    "    if hasattr(mdl, \"predict_proba\"):\n",
    "        y_proba = mdl.predict_proba(X_test)[:, 1]\n",
    "        roc_auc = roc_auc_score(y_test, y_proba)\n",
    "    else:\n",
    "        roc_auc = \"N/A\"\n",
    "    summary.append({\n",
    "        \"Model\": name,\n",
    "        \"Test Accuracy\": accuracy_score(y_test, y_pred),\n",
    "        \"Precision\": precision_score(y_test, y_pred),\n",
    "        \"Recall\": recall_score(y_test, y_pred),\n",
    "        \"F1-score\": f1_score(y_test, y_pred),\n",
    "        \"ROC AUC\": roc_auc\n",
    "    })\n",
    "summary_df = pd.DataFrame(summary)\n",
    "print(summary_df)"
   ]
  },
  {
   "cell_type": "code",
   "execution_count": 41,
   "metadata": {},
   "outputs": [
    {
     "name": "stderr",
     "output_type": "stream",
     "text": [
      "/Users/nash.deshpande/Downloads/AIML/.venv/lib/python3.12/site-packages/sklearn/metrics/_classification.py:1706: UndefinedMetricWarning: Precision is ill-defined and being set to 0.0 due to no predicted samples. Use `zero_division` parameter to control this behavior.\n",
      "  _warn_prf(average, modifier, f\"{metric.capitalize()} is\", result.shape[0])\n",
      "/Users/nash.deshpande/Downloads/AIML/.venv/lib/python3.12/site-packages/sklearn/metrics/_classification.py:1706: UndefinedMetricWarning: Precision is ill-defined and being set to 0.0 due to no predicted samples. Use `zero_division` parameter to control this behavior.\n",
      "  _warn_prf(average, modifier, f\"{metric.capitalize()} is\", result.shape[0])\n",
      "/Users/nash.deshpande/Downloads/AIML/.venv/lib/python3.12/site-packages/sklearn/metrics/_classification.py:1706: UndefinedMetricWarning: Precision is ill-defined and being set to 0.0 due to no predicted samples. Use `zero_division` parameter to control this behavior.\n",
      "  _warn_prf(average, modifier, f\"{metric.capitalize()} is\", result.shape[0])\n",
      "/Users/nash.deshpande/Downloads/AIML/.venv/lib/python3.12/site-packages/sklearn/metrics/_classification.py:1706: UndefinedMetricWarning: Precision is ill-defined and being set to 0.0 due to no predicted samples. Use `zero_division` parameter to control this behavior.\n",
      "  _warn_prf(average, modifier, f\"{metric.capitalize()} is\", result.shape[0])\n",
      "/Users/nash.deshpande/Downloads/AIML/.venv/lib/python3.12/site-packages/sklearn/metrics/_classification.py:1706: UndefinedMetricWarning: Precision is ill-defined and being set to 0.0 due to no predicted samples. Use `zero_division` parameter to control this behavior.\n",
      "  _warn_prf(average, modifier, f\"{metric.capitalize()} is\", result.shape[0])\n",
      "/Users/nash.deshpande/Downloads/AIML/.venv/lib/python3.12/site-packages/sklearn/metrics/_classification.py:1706: UndefinedMetricWarning: Precision is ill-defined and being set to 0.0 due to no predicted samples. Use `zero_division` parameter to control this behavior.\n",
      "  _warn_prf(average, modifier, f\"{metric.capitalize()} is\", result.shape[0])\n"
     ]
    },
    {
     "data": {
      "image/png": "[encoded data removed]",
      "text/plain": [
       "<Figure size 1000x600 with 1 Axes>"
      ]
     },
     "metadata": {},
     "output_type": "display_data"
    },
    {
     "data": {
      "image/png": "[encoded data removed]",
      "text/plain": [
       "<Figure size 640x480 with 1 Axes>"
      ]
     },
     "metadata": {},
     "output_type": "display_data"
    }
   ],
   "source": [
    "import numpy as np\n",
    "from sklearn.metrics import precision_recall_curve, PrecisionRecallDisplay\n",
    "thresholds = np.arange(0.05, 1.0, 0.05)\n",
    "precisions = []\n",
    "recalls = []\n",
    "f1s = []\n",
    "y_proba = model.predict_proba(X_test)[:, 1]\n",
    "for thresh in thresholds:\n",
    "    y_pred_thresh = (y_proba >= thresh).astype(int)\n",
    "    precisions.append(precision_score(y_test, y_pred_thresh))\n",
    "    recalls.append(recall_score(y_test, y_pred_thresh))\n",
    "    f1s.append(f1_score(y_test, y_pred_thresh))\n",
    "plt.figure(figsize=(10,6))\n",
    "plt.plot(thresholds, recalls, label='Recall')\n",
    "plt.plot(thresholds, precisions, label='Precision')\n",
    "plt.plot(thresholds, f1s, label='F1-score')\n",
    "plt.xlabel('Threshold')\n",
    "plt.ylabel('Score')\n",
    "plt.title('Precision, Recall, and F1-score vs. Threshold (Logistic Regression)')\n",
    "plt.legend()\n",
    "plt.show()\n",
    "precision, recall, thresh = precision_recall_curve(y_test, y_proba)\n",
    "disp = PrecisionRecallDisplay(precision=precision, recall=recall)\n",
    "disp.plot()\n",
    "plt.title('Precision-Recall Curve (Logistic Regression)')\n",
    "plt.show()"
   ]
  },
  {
   "cell_type": "code",
   "execution_count": 42,
   "metadata": {},
   "outputs": [
    {
     "name": "stdout",
     "output_type": "stream",
     "text": [
      "Best F1-score: 0.259 at threshold 0.15\n",
      "Precision: 0.222, Recall: 0.311\n",
      "Threshold 0.05: Precision=0.123, Recall=0.944, F1=0.218\n"
     ]
    }
   ],
   "source": [
    "# Find threshold with highest F1-score\n",
    "best_idx = np.argmax(f1s)\n",
    "print(f'Best F1-score: {f1s[best_idx]:.3f} at threshold {thresholds[best_idx]:.2f}')\n",
    "print(f'Precision: {precisions[best_idx]:.3f}, Recall: {recalls[best_idx]:.3f}')\n",
    "\n",
    "# Find first threshold where recall >= 0.5\n",
    "desired_recall = 0.5\n",
    "found = False\n",
    "for t, p, r, f in zip(thresholds, precisions, recalls, f1s):\n",
    "    if r >= desired_recall:\n",
    "        print(f'Threshold {t:.2f}: Precision={p:.3f}, Recall={r:.3f}, F1={f:.3f}')\n",
    "        found = True\n",
    "        break\n",
    "if not found:\n",
    "    print('No threshold found with recall >= 0.5')"
   ]
  },
  {
   "cell_type": "code",
   "execution_count": 43,
   "metadata": {},
   "outputs": [
    {
     "name": "stdout",
     "output_type": "stream",
     "text": [
      "Classification report for threshold 0.15:\n",
      "              precision    recall  f1-score   support\n",
      "\n",
      "           0       0.91      0.86      0.88      7303\n",
      "           1       0.22      0.31      0.26       935\n",
      "\n",
      "    accuracy                           0.80      8238\n",
      "   macro avg       0.56      0.59      0.57      8238\n",
      "weighted avg       0.83      0.80      0.81      8238\n",
      "\n",
      "Confusion matrix:\n",
      "[[6285 1018]\n",
      " [ 644  291]]\n"
     ]
    }
   ],
   "source": [
    "# Apply the threshold with highest F1-score to make final predictions\n",
    "best_threshold = thresholds[best_idx]\n",
    "y_pred_final = (y_proba >= best_threshold).astype(int)\n",
    "from sklearn.metrics import classification_report, confusion_matrix\n",
    "print(f'Classification report for threshold {best_threshold:.2f}:')\n",
    "print(classification_report(y_test, y_pred_final))\n",
    "print('Confusion matrix:')\n",
    "print(confusion_matrix(y_test, y_pred_final))"
   ]
  },
  {
   "cell_type": "markdown",
   "metadata": {},
   "source": []
  },
  {
   "cell_type": "code",
   "execution_count": null,
   "metadata": {},
   "outputs": [],
   "source": []
  },
  {
   "cell_type": "code",
   "execution_count": null,
   "metadata": {},
   "outputs": [],
   "source": []
  },
  {
   "cell_type": "code",
   "execution_count": null,
   "metadata": {},
   "outputs": [],
   "source": []
  },
  {
   "cell_type": "markdown",
   "metadata": {},
   "source": [
    "##### Questions"
   ]
  }
 ],
 "metadata": {
  "kernelspec": {
   "display_name": ".venv",
   "language": "python",
   "name": "python3"
  },
  "language_info": {
   "codemirror_mode": {
    "name": "ipython",
    "version": 3
   },
   "file_extension": ".py",
   "mimetype": "text/x-python",
   "name": "python",
   "nbconvert_exporter": "python",
   "pygments_lexer": "ipython3",
   "version": "3.12.3"
  },
  "widgets": {
   "application/vnd.jupyter.widget-state+json": {
    "state": {},
    "version_major": 2,
    "version_minor": 0
   }
  }
 },
 "nbformat": 4,
 "nbformat_minor": 4
}
