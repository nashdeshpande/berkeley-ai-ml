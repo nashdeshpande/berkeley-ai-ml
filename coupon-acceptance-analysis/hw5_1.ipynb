{
 "cells": [
  {
   "cell_type": "markdown",
   "metadata": {
    "id": "CcUT6Fon_qRE"
   },
   "source": [
    "### Required Assignment 5.1: Will the Customer Accept the Coupon?\n",
    "\n",
    "**Context**\n",
    "\n",
    "Imagine driving through town and a coupon is delivered to your cell phone for a restaurant near where you are driving. Would you accept that coupon and take a short detour to the restaurant? Would you accept the coupon but use it on a subsequent trip? Would you ignore the coupon entirely? What if the coupon was for a bar instead of a restaurant? What about a coffee house? Would you accept a bar coupon with a minor passenger in the car? What about if it was just you and your partner in the car? Would weather impact the rate of acceptance? What about the time of day?\n",
    "\n",
    "Obviously, proximity to the business is a factor on whether the coupon is delivered to the driver or not, but what are the factors that determine whether a driver accepts the coupon once it is delivered to them? How would you determine whether a driver is likely to accept a coupon?\n",
    "\n",
    "**Overview**\n",
    "\n",
    "The goal of this project is to use what you know about visualizations and probability distributions to distinguish between customers who accepted a driving coupon versus those that did not.\n",
    "\n",
    "**Data**\n",
    "\n",
    "This data comes to us from the UCI Machine Learning repository and was collected via a survey on Amazon Mechanical Turk. The survey describes different driving scenarios including the destination, current time, weather, passenger, etc., and then ask the person whether he will accept the coupon if he is the driver. Answers that the user will drive there ‘right away’ or ‘later before the coupon expires’ are labeled as ‘Y = 1’ and answers ‘no, I do not want the coupon’ are labeled as ‘Y = 0’.  There are five different types of coupons -- less expensive restaurants (under \\$20), coffee houses, carry out & take away, bar, and more expensive restaurants (\\$20 - $50)."
   ]
  },
  {
   "cell_type": "markdown",
   "metadata": {
    "id": "1wORvMBJ_qRF"
   },
   "source": [
    "**Deliverables**\n",
    "\n",
    "Your final product should be a brief report that highlights the differences between customers who did and did not accept the coupons.  To explore the data you will utilize your knowledge of plotting, statistical summaries, and visualization using Python. You will publish your findings in a public facing github repository as your first portfolio piece.\n",
    "\n",
    "\n",
    "\n"
   ]
  },
  {
   "cell_type": "markdown",
   "metadata": {
    "id": "pG6_Ym6q_qRG"
   },
   "source": [
    "### Data Description\n",
    "Keep in mind that these values mentioned below are average values.\n",
    "\n",
    "The attributes of this data set include:\n",
    "1. User attributes\n",
    "    -  Gender: male, female\n",
    "    -  Age: below 21, 21 to 25, 26 to 30, etc.\n",
    "    -  Marital Status: single, married partner, unmarried partner, or widowed\n",
    "    -  Number of children: 0, 1, or more than 1\n",
    "    -  Education: high school, bachelors degree, associates degree, or graduate degree\n",
    "    -  Occupation: architecture & engineering, business & financial, etc.\n",
    "    -  Annual income: less than \\\\$12500, \\\\$12500 - \\\\$24999, \\\\$25000 - \\\\$37499, etc.\n",
    "    -  Number of times that he/she goes to a bar: 0, less than 1, 1 to 3, 4 to 8 or greater than 8\n",
    "    -  Number of times that he/she buys takeaway food: 0, less than 1, 1 to 3, 4 to 8 or greater\n",
    "    than 8\n",
    "    -  Number of times that he/she goes to a coffee house: 0, less than 1, 1 to 3, 4 to 8 or\n",
    "    greater than 8\n",
    "    -  Number of times that he/she eats at a restaurant with average expense less than \\\\$20 per\n",
    "    person: 0, less than 1, 1 to 3, 4 to 8 or greater than 8\n",
    "    -  Number of times that he/she goes to a bar: 0, less than 1, 1 to 3, 4 to 8 or greater than 8\n",
    "    \n",
    "\n",
    "2. Contextual attributes\n",
    "    - Driving destination: home, work, or no urgent destination\n",
    "    - Location of user, coupon and destination: we provide a map to show the geographical\n",
    "    location of the user, destination, and the venue, and we mark the distance between each\n",
    "    two places with time of driving. The user can see whether the venue is in the same\n",
    "    direction as the destination.\n",
    "    - Weather: sunny, rainy, or snowy\n",
    "    - Temperature: 30F, 55F, or 80F\n",
    "    - Time: 10AM, 2PM, or 6PM\n",
    "    - Passenger: alone, partner, kid(s), or friend(s)\n",
    "\n",
    "\n",
    "3. Coupon attributes\n",
    "    - time before it expires: 2 hours or one day"
   ]
  },
  {
   "cell_type": "code",
   "execution_count": 2,
   "metadata": {
    "execution": {
     "iopub.execute_input": "2025-05-07T07:54:15.143770Z",
     "iopub.status.busy": "2025-05-07T07:54:15.143199Z",
     "iopub.status.idle": "2025-05-07T07:54:16.476295Z",
     "shell.execute_reply": "2025-05-07T07:54:16.475408Z",
     "shell.execute_reply.started": "2025-05-07T07:54:15.143743Z"
    },
    "id": "dzNoP3o__qRG",
    "trusted": true
   },
   "outputs": [],
   "source": [
    "import matplotlib.pyplot as plt\n",
    "import seaborn as sns\n",
    "import pandas as pd\n",
    "import numpy as np"
   ]
  },
  {
   "cell_type": "markdown",
   "metadata": {
    "id": "Ct8pI1uE_qRG"
   },
   "source": [
    "### Problems\n",
    "\n",
    "Use the prompts below to get started with your data analysis.  \n",
    "\n",
    "1. Read in the `coupons.csv` file.\n",
    "\n",
    "\n"
   ]
  },
  {
   "cell_type": "code",
   "execution_count": null,
   "metadata": {
    "execution": {
     "iopub.execute_input": "2025-05-07T07:54:16.478423Z",
     "iopub.status.busy": "2025-05-07T07:54:16.477920Z",
     "iopub.status.idle": "2025-05-07T07:54:16.611289Z",
     "shell.execute_reply": "2025-05-07T07:54:16.610335Z",
     "shell.execute_reply.started": "2025-05-07T07:54:16.478391Z"
    },
    "id": "X0vbffYg_qRH",
    "trusted": true
   },
   "outputs": [],
   "source": [
    "data = pd.read_csv('data/coupons.csv')"
   ]
  },
  {
   "cell_type": "code",
   "execution_count": 4,
   "metadata": {
    "execution": {
     "iopub.execute_input": "2025-05-07T07:54:16.612751Z",
     "iopub.status.busy": "2025-05-07T07:54:16.612430Z",
     "iopub.status.idle": "2025-05-07T07:54:16.662620Z",
     "shell.execute_reply": "2025-05-07T07:54:16.661549Z",
     "shell.execute_reply.started": "2025-05-07T07:54:16.612726Z"
    },
    "id": "TXofQ_DF_qRH",
    "outputId": "2fc96a2c-1112-4b54-f24f-dbb9bc88abfb",
    "trusted": true
   },
   "outputs": [
    {
     "data": {
      "text/html": [
       "<div>\n",
       "<style scoped>\n",
       "    .dataframe tbody tr th:only-of-type {\n",
       "        vertical-align: middle;\n",
       "    }\n",
       "\n",
       "    .dataframe tbody tr th {\n",
       "        vertical-align: top;\n",
       "    }\n",
       "\n",
       "    .dataframe thead th {\n",
       "        text-align: right;\n",
       "    }\n",
       "</style>\n",
       "<table border=\"1\" class=\"dataframe\">\n",
       "  <thead>\n",
       "    <tr style=\"text-align: right;\">\n",
       "      <th></th>\n",
       "      <th>destination</th>\n",
       "      <th>passanger</th>\n",
       "      <th>weather</th>\n",
       "      <th>temperature</th>\n",
       "      <th>time</th>\n",
       "      <th>coupon</th>\n",
       "      <th>expiration</th>\n",
       "      <th>gender</th>\n",
       "      <th>age</th>\n",
       "      <th>maritalStatus</th>\n",
       "      <th>...</th>\n",
       "      <th>CoffeeHouse</th>\n",
       "      <th>CarryAway</th>\n",
       "      <th>RestaurantLessThan20</th>\n",
       "      <th>Restaurant20To50</th>\n",
       "      <th>toCoupon_GEQ5min</th>\n",
       "      <th>toCoupon_GEQ15min</th>\n",
       "      <th>toCoupon_GEQ25min</th>\n",
       "      <th>direction_same</th>\n",
       "      <th>direction_opp</th>\n",
       "      <th>Y</th>\n",
       "    </tr>\n",
       "  </thead>\n",
       "  <tbody>\n",
       "    <tr>\n",
       "      <th>0</th>\n",
       "      <td>No Urgent Place</td>\n",
       "      <td>Alone</td>\n",
       "      <td>Sunny</td>\n",
       "      <td>55</td>\n",
       "      <td>2PM</td>\n",
       "      <td>Restaurant(&lt;20)</td>\n",
       "      <td>1d</td>\n",
       "      <td>Female</td>\n",
       "      <td>21</td>\n",
       "      <td>Unmarried partner</td>\n",
       "      <td>...</td>\n",
       "      <td>never</td>\n",
       "      <td>NaN</td>\n",
       "      <td>4~8</td>\n",
       "      <td>1~3</td>\n",
       "      <td>1</td>\n",
       "      <td>0</td>\n",
       "      <td>0</td>\n",
       "      <td>0</td>\n",
       "      <td>1</td>\n",
       "      <td>1</td>\n",
       "    </tr>\n",
       "    <tr>\n",
       "      <th>1</th>\n",
       "      <td>No Urgent Place</td>\n",
       "      <td>Friend(s)</td>\n",
       "      <td>Sunny</td>\n",
       "      <td>80</td>\n",
       "      <td>10AM</td>\n",
       "      <td>Coffee House</td>\n",
       "      <td>2h</td>\n",
       "      <td>Female</td>\n",
       "      <td>21</td>\n",
       "      <td>Unmarried partner</td>\n",
       "      <td>...</td>\n",
       "      <td>never</td>\n",
       "      <td>NaN</td>\n",
       "      <td>4~8</td>\n",
       "      <td>1~3</td>\n",
       "      <td>1</td>\n",
       "      <td>0</td>\n",
       "      <td>0</td>\n",
       "      <td>0</td>\n",
       "      <td>1</td>\n",
       "      <td>0</td>\n",
       "    </tr>\n",
       "    <tr>\n",
       "      <th>2</th>\n",
       "      <td>No Urgent Place</td>\n",
       "      <td>Friend(s)</td>\n",
       "      <td>Sunny</td>\n",
       "      <td>80</td>\n",
       "      <td>10AM</td>\n",
       "      <td>Carry out &amp; Take away</td>\n",
       "      <td>2h</td>\n",
       "      <td>Female</td>\n",
       "      <td>21</td>\n",
       "      <td>Unmarried partner</td>\n",
       "      <td>...</td>\n",
       "      <td>never</td>\n",
       "      <td>NaN</td>\n",
       "      <td>4~8</td>\n",
       "      <td>1~3</td>\n",
       "      <td>1</td>\n",
       "      <td>1</td>\n",
       "      <td>0</td>\n",
       "      <td>0</td>\n",
       "      <td>1</td>\n",
       "      <td>1</td>\n",
       "    </tr>\n",
       "    <tr>\n",
       "      <th>3</th>\n",
       "      <td>No Urgent Place</td>\n",
       "      <td>Friend(s)</td>\n",
       "      <td>Sunny</td>\n",
       "      <td>80</td>\n",
       "      <td>2PM</td>\n",
       "      <td>Coffee House</td>\n",
       "      <td>2h</td>\n",
       "      <td>Female</td>\n",
       "      <td>21</td>\n",
       "      <td>Unmarried partner</td>\n",
       "      <td>...</td>\n",
       "      <td>never</td>\n",
       "      <td>NaN</td>\n",
       "      <td>4~8</td>\n",
       "      <td>1~3</td>\n",
       "      <td>1</td>\n",
       "      <td>1</td>\n",
       "      <td>0</td>\n",
       "      <td>0</td>\n",
       "      <td>1</td>\n",
       "      <td>0</td>\n",
       "    </tr>\n",
       "    <tr>\n",
       "      <th>4</th>\n",
       "      <td>No Urgent Place</td>\n",
       "      <td>Friend(s)</td>\n",
       "      <td>Sunny</td>\n",
       "      <td>80</td>\n",
       "      <td>2PM</td>\n",
       "      <td>Coffee House</td>\n",
       "      <td>1d</td>\n",
       "      <td>Female</td>\n",
       "      <td>21</td>\n",
       "      <td>Unmarried partner</td>\n",
       "      <td>...</td>\n",
       "      <td>never</td>\n",
       "      <td>NaN</td>\n",
       "      <td>4~8</td>\n",
       "      <td>1~3</td>\n",
       "      <td>1</td>\n",
       "      <td>1</td>\n",
       "      <td>0</td>\n",
       "      <td>0</td>\n",
       "      <td>1</td>\n",
       "      <td>0</td>\n",
       "    </tr>\n",
       "  </tbody>\n",
       "</table>\n",
       "<p>5 rows × 26 columns</p>\n",
       "</div>"
      ],
      "text/plain": [
       "       destination  passanger weather  temperature  time  \\\n",
       "0  No Urgent Place      Alone   Sunny           55   2PM   \n",
       "1  No Urgent Place  Friend(s)   Sunny           80  10AM   \n",
       "2  No Urgent Place  Friend(s)   Sunny           80  10AM   \n",
       "3  No Urgent Place  Friend(s)   Sunny           80   2PM   \n",
       "4  No Urgent Place  Friend(s)   Sunny           80   2PM   \n",
       "\n",
       "                  coupon expiration  gender age      maritalStatus  ...  \\\n",
       "0        Restaurant(<20)         1d  Female  21  Unmarried partner  ...   \n",
       "1           Coffee House         2h  Female  21  Unmarried partner  ...   \n",
       "2  Carry out & Take away         2h  Female  21  Unmarried partner  ...   \n",
       "3           Coffee House         2h  Female  21  Unmarried partner  ...   \n",
       "4           Coffee House         1d  Female  21  Unmarried partner  ...   \n",
       "\n",
       "   CoffeeHouse CarryAway RestaurantLessThan20 Restaurant20To50  \\\n",
       "0        never       NaN                  4~8              1~3   \n",
       "1        never       NaN                  4~8              1~3   \n",
       "2        never       NaN                  4~8              1~3   \n",
       "3        never       NaN                  4~8              1~3   \n",
       "4        never       NaN                  4~8              1~3   \n",
       "\n",
       "  toCoupon_GEQ5min toCoupon_GEQ15min toCoupon_GEQ25min direction_same  \\\n",
       "0                1                 0                 0              0   \n",
       "1                1                 0                 0              0   \n",
       "2                1                 1                 0              0   \n",
       "3                1                 1                 0              0   \n",
       "4                1                 1                 0              0   \n",
       "\n",
       "  direction_opp  Y  \n",
       "0             1  1  \n",
       "1             1  0  \n",
       "2             1  1  \n",
       "3             1  0  \n",
       "4             1  0  \n",
       "\n",
       "[5 rows x 26 columns]"
      ]
     },
     "execution_count": 4,
     "metadata": {},
     "output_type": "execute_result"
    }
   ],
   "source": [
    "data.head()"
   ]
  },
  {
   "cell_type": "markdown",
   "metadata": {
    "id": "GcDs78ZH_qRH"
   },
   "source": [
    "2. Investigate the dataset for missing or problematic data."
   ]
  },
  {
   "cell_type": "code",
   "execution_count": 5,
   "metadata": {
    "execution": {
     "iopub.execute_input": "2025-05-07T07:54:16.664775Z",
     "iopub.status.busy": "2025-05-07T07:54:16.664467Z",
     "iopub.status.idle": "2025-05-07T07:54:16.670037Z",
     "shell.execute_reply": "2025-05-07T07:54:16.668970Z",
     "shell.execute_reply.started": "2025-05-07T07:54:16.664753Z"
    },
    "id": "6CwL6oWj_qRH",
    "trusted": true
   },
   "outputs": [
    {
     "name": "stdout",
     "output_type": "stream",
     "text": [
      "Before removing duplicates: (12684, 26)\n"
     ]
    }
   ],
   "source": [
    "print(\"Before removing duplicates:\", data.shape)"
   ]
  },
  {
   "cell_type": "markdown",
   "metadata": {
    "id": "bSdVSpYB_qRH"
   },
   "source": [
    "3. Decide what to do about your missing data -- drop, replace, other..."
   ]
  },
  {
   "cell_type": "code",
   "execution_count": 6,
   "metadata": {
    "execution": {
     "iopub.execute_input": "2025-05-07T07:54:16.671545Z",
     "iopub.status.busy": "2025-05-07T07:54:16.671162Z",
     "iopub.status.idle": "2025-05-07T07:54:16.729228Z",
     "shell.execute_reply": "2025-05-07T07:54:16.728282Z",
     "shell.execute_reply.started": "2025-05-07T07:54:16.671514Z"
    },
    "id": "tyvoAC5F_qRI",
    "trusted": true
   },
   "outputs": [
    {
     "name": "stdout",
     "output_type": "stream",
     "text": [
      "After removing duplicates: (12610, 26)\n"
     ]
    }
   ],
   "source": [
    "data = data.drop_duplicates()\n",
    "print(\"After removing duplicates:\", data.shape)"
   ]
  },
  {
   "cell_type": "code",
   "execution_count": 7,
   "metadata": {
    "execution": {
     "iopub.execute_input": "2025-05-07T07:54:16.730479Z",
     "iopub.status.busy": "2025-05-07T07:54:16.730184Z",
     "iopub.status.idle": "2025-05-07T07:54:16.754130Z",
     "shell.execute_reply": "2025-05-07T07:54:16.753172Z",
     "shell.execute_reply.started": "2025-05-07T07:54:16.730451Z"
    },
    "trusted": true
   },
   "outputs": [
    {
     "name": "stdout",
     "output_type": "stream",
     "text": [
      "<class 'pandas.core.series.Series'>\n"
     ]
    },
    {
     "data": {
      "text/plain": [
       "destination                 0\n",
       "direction_same              0\n",
       "toCoupon_GEQ25min           0\n",
       "toCoupon_GEQ15min           0\n",
       "toCoupon_GEQ5min            0\n",
       "income                      0\n",
       "direction_opp               0\n",
       "education                   0\n",
       "has_children                0\n",
       "occupation                  0\n",
       "age                         0\n",
       "gender                      0\n",
       "expiration                  0\n",
       "coupon                      0\n",
       "time                        0\n",
       "temperature                 0\n",
       "weather                     0\n",
       "passanger                   0\n",
       "maritalStatus               0\n",
       "Y                           0\n",
       "Bar                       107\n",
       "RestaurantLessThan20      129\n",
       "CarryAway                 150\n",
       "Restaurant20To50          189\n",
       "CoffeeHouse               217\n",
       "car                     12502\n",
       "dtype: int64"
      ]
     },
     "execution_count": 7,
     "metadata": {},
     "output_type": "execute_result"
    }
   ],
   "source": [
    "missing_counts = data.isnull().sum().sort_values()\n",
    "print(type(missing_counts))\n",
    "missing_counts"
   ]
  },
  {
   "cell_type": "code",
   "execution_count": 8,
   "metadata": {
    "execution": {
     "iopub.execute_input": "2025-05-07T07:54:16.755437Z",
     "iopub.status.busy": "2025-05-07T07:54:16.755118Z",
     "iopub.status.idle": "2025-05-07T07:54:16.767545Z",
     "shell.execute_reply": "2025-05-07T07:54:16.766593Z",
     "shell.execute_reply.started": "2025-05-07T07:54:16.755409Z"
    },
    "trusted": true
   },
   "outputs": [
    {
     "data": {
      "text/plain": [
       "Index(['destination', 'passanger', 'weather', 'temperature', 'time', 'coupon',\n",
       "       'expiration', 'gender', 'age', 'maritalStatus', 'has_children',\n",
       "       'education', 'occupation', 'income', 'car', 'Bar', 'CoffeeHouse',\n",
       "       'CarryAway', 'RestaurantLessThan20', 'Restaurant20To50',\n",
       "       'toCoupon_GEQ5min', 'toCoupon_GEQ15min', 'toCoupon_GEQ25min',\n",
       "       'direction_same', 'direction_opp', 'Y'],\n",
       "      dtype='object')"
      ]
     },
     "execution_count": 8,
     "metadata": {},
     "output_type": "execute_result"
    }
   ],
   "source": [
    "data.columns"
   ]
  },
  {
   "cell_type": "markdown",
   "metadata": {
    "id": "YE6oJbXd_qRI"
   },
   "source": [
    "4. What proportion of the total observations chose to accept the coupon?\n",
    "\n"
   ]
  },
  {
   "cell_type": "code",
   "execution_count": 9,
   "metadata": {
    "execution": {
     "iopub.execute_input": "2025-05-07T07:54:16.769231Z",
     "iopub.status.busy": "2025-05-07T07:54:16.768660Z",
     "iopub.status.idle": "2025-05-07T07:54:16.789202Z",
     "shell.execute_reply": "2025-05-07T07:54:16.788262Z",
     "shell.execute_reply.started": "2025-05-07T07:54:16.769198Z"
    },
    "id": "86GGqBTv_qRI",
    "trusted": true
   },
   "outputs": [
    {
     "data": {
      "text/plain": [
       "0.5675654242664552"
      ]
     },
     "execution_count": 9,
     "metadata": {},
     "output_type": "execute_result"
    }
   ],
   "source": [
    "data['Y'].sum()/data.shape[0]"
   ]
  },
  {
   "cell_type": "markdown",
   "metadata": {
    "id": "vflz0DoE_qRI"
   },
   "source": [
    "5. Use a bar plot to visualize the `coupon` column."
   ]
  },
  {
   "cell_type": "code",
   "execution_count": 10,
   "metadata": {
    "execution": {
     "iopub.execute_input": "2025-05-07T07:54:16.790438Z",
     "iopub.status.busy": "2025-05-07T07:54:16.790160Z",
     "iopub.status.idle": "2025-05-07T07:54:17.248841Z",
     "shell.execute_reply": "2025-05-07T07:54:17.247823Z",
     "shell.execute_reply.started": "2025-05-07T07:54:16.790417Z"
    },
    "id": "dHFh3E45_qRI",
    "trusted": true
   },
   "outputs": [
    {
     "data": {
      "text/plain": [
       "<Axes: xlabel='coupon'>"
      ]
     },
     "execution_count": 10,
     "metadata": {},
     "output_type": "execute_result"
    },
    {
     "data": {
      "image/png": "[encoded data removed]",
      "text/plain": [
       "<Figure size 640x480 with 1 Axes>"
      ]
     },
     "metadata": {},
     "output_type": "display_data"
    }
   ],
   "source": [
    "data['coupon'].value_counts().plot(kind='bar')"
   ]
  },
  {
   "cell_type": "markdown",
   "metadata": {
    "id": "Qw4lCyx2_qRI"
   },
   "source": [
    "6. Use a histogram to visualize the temperature column."
   ]
  },
  {
   "cell_type": "code",
   "execution_count": 11,
   "metadata": {
    "execution": {
     "iopub.execute_input": "2025-05-07T07:54:17.251954Z",
     "iopub.status.busy": "2025-05-07T07:54:17.251678Z",
     "iopub.status.idle": "2025-05-07T07:54:17.438409Z",
     "shell.execute_reply": "2025-05-07T07:54:17.437563Z",
     "shell.execute_reply.started": "2025-05-07T07:54:17.251932Z"
    },
    "id": "Yg9Anv71_qRI",
    "trusted": true
   },
   "outputs": [
    {
     "data": {
      "text/plain": [
       "<Axes: ylabel='Frequency'>"
      ]
     },
     "execution_count": 11,
     "metadata": {},
     "output_type": "execute_result"
    },
    {
     "data": {
      "image/png": "[encoded data removed]",
      "text/plain": [
       "<Figure size 640x480 with 1 Axes>"
      ]
     },
     "metadata": {},
     "output_type": "display_data"
    }
   ],
   "source": [
    "data['temperature'].plot(kind='hist')"
   ]
  },
  {
   "cell_type": "code",
   "execution_count": null,
   "metadata": {
    "id": "zLtOaJQk_qRI",
    "trusted": true
   },
   "outputs": [],
   "source": []
  },
  {
   "cell_type": "code",
   "execution_count": null,
   "metadata": {
    "id": "7GBHZKBp_qRJ",
    "trusted": true
   },
   "outputs": [],
   "source": []
  },
  {
   "cell_type": "code",
   "execution_count": null,
   "metadata": {
    "id": "Y5nBUA-j_qRJ",
    "trusted": true
   },
   "outputs": [],
   "source": []
  },
  {
   "cell_type": "code",
   "execution_count": null,
   "metadata": {
    "id": "ShcUC-Vm_qRJ",
    "trusted": true
   },
   "outputs": [],
   "source": []
  },
  {
   "cell_type": "markdown",
   "metadata": {
    "id": "FupfgeJk_qRJ"
   },
   "source": [
    "**Investigating the Bar Coupons**\n",
    "\n",
    "Now, we will lead you through an exploration of just the bar related coupons.  \n",
    "\n",
    "1. Create a new `DataFrame` that contains just the bar coupons.\n"
   ]
  },
  {
   "cell_type": "code",
   "execution_count": 12,
   "metadata": {
    "execution": {
     "iopub.execute_input": "2025-05-07T07:54:17.439723Z",
     "iopub.status.busy": "2025-05-07T07:54:17.439410Z",
     "iopub.status.idle": "2025-05-07T07:54:17.448446Z",
     "shell.execute_reply": "2025-05-07T07:54:17.447360Z",
     "shell.execute_reply.started": "2025-05-07T07:54:17.439697Z"
    },
    "id": "tMBlWuGq_qRJ",
    "trusted": true
   },
   "outputs": [],
   "source": [
    "bar_frame = data[data['coupon'] == 'Bar']"
   ]
  },
  {
   "cell_type": "markdown",
   "metadata": {
    "id": "8ue6uCqf_qRJ"
   },
   "source": [
    "2. What proportion of bar coupons were accepted?\n"
   ]
  },
  {
   "cell_type": "code",
   "execution_count": 13,
   "metadata": {
    "execution": {
     "iopub.execute_input": "2025-05-07T07:54:17.449587Z",
     "iopub.status.busy": "2025-05-07T07:54:17.449313Z",
     "iopub.status.idle": "2025-05-07T07:54:17.478035Z",
     "shell.execute_reply": "2025-05-07T07:54:17.477170Z",
     "shell.execute_reply.started": "2025-05-07T07:54:17.449560Z"
    },
    "id": "hSdte8Mi_qRK",
    "trusted": true
   },
   "outputs": [
    {
     "data": {
      "text/plain": [
       "0.4099502487562189"
      ]
     },
     "execution_count": 13,
     "metadata": {},
     "output_type": "execute_result"
    }
   ],
   "source": [
    "bar_frame['Y'].sum()/bar_frame.shape[0]"
   ]
  },
  {
   "cell_type": "markdown",
   "metadata": {
    "id": "85nA_iEi_qRK"
   },
   "source": [
    "3. Compare the acceptance rate between those who went to a bar 3 or fewer times a month to those who went more.\n"
   ]
  },
  {
   "cell_type": "code",
   "execution_count": 14,
   "metadata": {
    "execution": {
     "iopub.execute_input": "2025-05-07T07:54:17.479130Z",
     "iopub.status.busy": "2025-05-07T07:54:17.478834Z",
     "iopub.status.idle": "2025-05-07T07:54:17.513200Z",
     "shell.execute_reply": "2025-05-07T07:54:17.512314Z",
     "shell.execute_reply.started": "2025-05-07T07:54:17.479102Z"
    },
    "id": "LBOrN-XM_qRK",
    "trusted": true
   },
   "outputs": [
    {
     "name": "stdout",
     "output_type": "stream",
     "text": [
      "0.370391061452514\n",
      "0.7688442211055276\n"
     ]
    }
   ],
   "source": [
    "#three_or_less = bar_frame[bar_frame['Bar'] == '1~3']\n",
    "three_or_less = bar_frame.query(\"Bar == 'less1' or Bar == '1~3' or Bar == 'never'\")\n",
    "three_or_less_acceptance_rate = three_or_less['Y'].sum()/three_or_less.shape[0]\n",
    "print(three_or_less_acceptance_rate)\n",
    "\n",
    "#print(bar_frame['Bar'].unique())\n",
    "four_or_more = bar_frame.query(\"Bar == '4~8' or Bar == 'gt8'\")\n",
    "four_or_more_acceptance_rate = four_or_more['Y'].sum()/four_or_more.shape[0]\n",
    "print(four_or_more_acceptance_rate)"
   ]
  },
  {
   "cell_type": "markdown",
   "metadata": {
    "id": "RBgcQwH4_qRK"
   },
   "source": [
    "4. Compare the acceptance rate between drivers who go to a bar more than once a month and are over the age of 25 to the all others.  Is there a difference?\n"
   ]
  },
  {
   "cell_type": "code",
   "execution_count": 15,
   "metadata": {
    "execution": {
     "iopub.execute_input": "2025-05-07T07:54:17.514378Z",
     "iopub.status.busy": "2025-05-07T07:54:17.514060Z",
     "iopub.status.idle": "2025-05-07T07:54:17.528559Z",
     "shell.execute_reply": "2025-05-07T07:54:17.527469Z",
     "shell.execute_reply.started": "2025-05-07T07:54:17.514347Z"
    },
    "id": "bf28bbeX_qRK",
    "trusted": true
   },
   "outputs": [
    {
     "name": "stdout",
     "output_type": "stream",
     "text": [
      "0.6883720930232559\n"
     ]
    }
   ],
   "source": [
    "#['never' 'less1' '1~3' 'gt8' nan '4~8']\n",
    "# df_filtered = df.query('(col1 >= 3) or (col2 >= 4)')\n",
    "gt_once_a_month = bar_frame.query(\"(Bar == '1~3' or Bar == '4~8' or Bar == 'gt8') and (age >= '25')\")\n",
    "gt_once_a_month_acceptance_rate = gt_once_a_month['Y'].sum()/gt_once_a_month.shape[0]\n",
    "print(gt_once_a_month_acceptance_rate)"
   ]
  },
  {
   "cell_type": "markdown",
   "metadata": {
    "id": "S4RKT4PJ_qRK"
   },
   "source": [
    "5. Use the same process to compare the acceptance rate between drivers who go to bars more than once a month and had passengers that were not a kid and had occupations other than farming, fishing, or forestry.\n"
   ]
  },
  {
   "cell_type": "code",
   "execution_count": 16,
   "metadata": {
    "execution": {
     "iopub.execute_input": "2025-05-07T07:54:17.529775Z",
     "iopub.status.busy": "2025-05-07T07:54:17.529556Z",
     "iopub.status.idle": "2025-05-07T07:54:17.559515Z",
     "shell.execute_reply": "2025-05-07T07:54:17.558513Z",
     "shell.execute_reply.started": "2025-05-07T07:54:17.529760Z"
    },
    "id": "sENaI2Tg_qRK",
    "trusted": true
   },
   "outputs": [
    {
     "name": "stdout",
     "output_type": "stream",
     "text": [
      "0.7132486388384754\n",
      "0.295407813570939\n"
     ]
    }
   ],
   "source": [
    "gt_once_a_month_passengers_no_kids = bar_frame.query(\"(Bar == '1~3' or Bar == '4~8' or Bar == 'gt8') and (passanger != 'Kid(s)') and (occupation != 'Farming Fishing & Forestry')\")\n",
    "gt_once_a_month_passengers_no_kids_acceptance_rate = gt_once_a_month_passengers_no_kids['Y'].sum()/gt_once_a_month_passengers_no_kids.shape[0]\n",
    "print(gt_once_a_month_passengers_no_kids_acceptance_rate)\n",
    "\n",
    "other_drivers = bar_frame.drop(gt_once_a_month_passengers_no_kids.index)\n",
    "other_drivers_acceptance_rate = other_drivers['Y'].sum()/other_drivers.shape[0]\n",
    "print(other_drivers_acceptance_rate)"
   ]
  },
  {
   "cell_type": "markdown",
   "metadata": {
    "id": "n2LIUTil_qRK"
   },
   "source": [
    "6. Compare the acceptance rates between those drivers who:\n",
    "\n",
    "- go to bars more than once a month, had passengers that were not a kid, and were not widowed *OR*\n",
    "- go to bars more than once a month and are under the age of 30 *OR*\n",
    "- go to cheap restaurants more than 4 times a month and income is less than 50K.\n",
    "\n"
   ]
  },
  {
   "cell_type": "code",
   "execution_count": 17,
   "metadata": {
    "execution": {
     "iopub.execute_input": "2025-05-07T07:54:17.561504Z",
     "iopub.status.busy": "2025-05-07T07:54:17.561129Z",
     "iopub.status.idle": "2025-05-07T07:54:17.604392Z",
     "shell.execute_reply": "2025-05-07T07:54:17.603130Z",
     "shell.execute_reply.started": "2025-05-07T07:54:17.561480Z"
    },
    "id": "aK_wEzx7_qRK",
    "trusted": true
   },
   "outputs": [
    {
     "name": "stdout",
     "output_type": "stream",
     "text": [
      "0.7132486388384754\n",
      "0.7217391304347827\n",
      "0.45348837209302323\n"
     ]
    }
   ],
   "source": [
    "gt_once_a_month_passengers_no_kids_not_widowed = bar_frame.query(\"(Bar == '1~3' or Bar == '4~8' or Bar == 'gt8') and (passanger != 'Kid(s)') and (maritalStatus != 'Widowed')\")\n",
    "gt_once_a_month_passengers_no_kids_not_widowed_acceptance_rate = gt_once_a_month_passengers_no_kids_not_widowed['Y'].sum()/gt_once_a_month_passengers_no_kids_not_widowed.shape[0]\n",
    "print(gt_once_a_month_passengers_no_kids_not_widowed_acceptance_rate)\n",
    "\n",
    "gt_once_a_month_under_30 = bar_frame.query(\"(Bar == '1~3' or Bar == '4~8' or Bar == 'gt8') and (age == ['21', '26','below21'])\")\n",
    "gt_once_a_month_under_30_acceptance_rate = gt_once_a_month_under_30['Y'].sum()/gt_once_a_month_under_30.shape[0]\n",
    "print(gt_once_a_month_under_30_acceptance_rate)\n",
    "\n",
    "cheap_gt4month_income_under50 = bar_frame.query(\"(RestaurantLessThan20 == '4~8' or RestaurantLessThan20 == 'gt8') and (income == ['$12500 - $24999', '$25000 - $37499','$37500 - $49999', 'Less than $12500'])\")\n",
    "cheap_gt4month_income_under50_acceptance_rate = cheap_gt4month_income_under50['Y'].sum()/cheap_gt4month_income_under50.shape[0]\n",
    "print(cheap_gt4month_income_under50_acceptance_rate)"
   ]
  },
  {
   "cell_type": "markdown",
   "metadata": {
    "id": "v3fL3QkO_qRK"
   },
   "source": [
    "7.  Based on these observations, what do you hypothesize about drivers who accepted the bar coupons?"
   ]
  },
  {
   "cell_type": "markdown",
   "metadata": {},
   "source": [
    "Based on the provided code and analysis, drivers who accepted bar coupons appear to share some common characteristics:\n",
    "\n",
    "* **Frequent Bargoers:**  The acceptance rate is noticeably higher among those who frequent bars (more than once a month).  This suggests a strong correlation between bar patronage and coupon acceptance for bars.\n",
    "\n",
    "* **Age and Bar Visits:** Drivers aged 25 and above who frequently visit bars demonstrate a higher acceptance rate compared to other drivers. Those under 30 visiting bars frequently also show higher acceptance rates.\n",
    "\n",
    "* **Passenger and Occupation:** The acceptance rate is elevated for those who go to bars more than once a month, don't have kids as passengers and work in professions other than farming, fishing, and forestry.\n",
    "\n",
    "* **Combined Factors:** The analysis suggests that the combination of multiple factors (frequent bar visits, age, passenger type, and occupation) might contribute to a higher likelihood of accepting bar coupons.\n",
    "\n",
    "**Overall Hypothesis:**  Drivers who frequently visit bars, particularly those over 25 years of age without children in the car, and in non-agricultural occupations are more likely to accept bar coupons.  This hypothesis is supported by the trend observed in the provided analysis, but a more statistically robust investigation with statistical tests and possibly multivariate analysis would be necessary to confirm this hypothesis. Further analysis should examine the interaction between these factors.\n"
   ]
  },
  {
   "cell_type": "markdown",
   "metadata": {},
   "source": []
  },
  {
   "cell_type": "markdown",
   "metadata": {},
   "source": []
  },
  {
   "cell_type": "markdown",
   "metadata": {
    "id": "r4Hu1zOb_qRL"
   },
   "source": [
    "### Independent Investigation\n",
    "\n",
    "Using the bar coupon example as motivation, you are to explore one of the other coupon groups and try to determine the characteristics of passengers who accept the coupons.  "
   ]
  },
  {
   "cell_type": "code",
   "execution_count": 26,
   "metadata": {
    "execution": {
     "iopub.execute_input": "2025-05-07T07:56:55.036790Z",
     "iopub.status.busy": "2025-05-07T07:56:55.036497Z",
     "iopub.status.idle": "2025-05-07T07:56:55.045594Z",
     "shell.execute_reply": "2025-05-07T07:56:55.044606Z",
     "shell.execute_reply.started": "2025-05-07T07:56:55.036767Z"
    },
    "id": "0c71cQhu_qRL",
    "trusted": true
   },
   "outputs": [
    {
     "name": "stdout",
     "output_type": "stream",
     "text": [
      "Overall acceeptance rate for Coffee House coupons: 0.4986212083228879\n"
     ]
    }
   ],
   "source": [
    "# Exploring other coupon types (e.g. Coffee House)\n",
    "coffee_house_frame = data[data['coupon'] == 'Coffee House']\n",
    "print(\"Overall acceeptance rate for Coffee House coupons:\", coffee_house_frame['Y'].mean())"
   ]
  },
  {
   "cell_type": "code",
   "execution_count": 57,
   "metadata": {
    "execution": {
     "iopub.execute_input": "2025-05-07T08:20:26.775228Z",
     "iopub.status.busy": "2025-05-07T08:20:26.774889Z",
     "iopub.status.idle": "2025-05-07T08:20:26.795381Z",
     "shell.execute_reply": "2025-05-07T08:20:26.794260Z",
     "shell.execute_reply.started": "2025-05-07T08:20:26.775200Z"
    },
    "id": "QEsBkvIN_qRL",
    "trusted": true
   },
   "outputs": [
    {
     "data": {
      "text/html": [
       "<div>\n",
       "<style scoped>\n",
       "    .dataframe tbody tr th:only-of-type {\n",
       "        vertical-align: middle;\n",
       "    }\n",
       "\n",
       "    .dataframe tbody tr th {\n",
       "        vertical-align: top;\n",
       "    }\n",
       "\n",
       "    .dataframe thead th {\n",
       "        text-align: right;\n",
       "    }\n",
       "</style>\n",
       "<table border=\"1\" class=\"dataframe\">\n",
       "  <thead>\n",
       "    <tr style=\"text-align: right;\">\n",
       "      <th></th>\n",
       "      <th></th>\n",
       "      <th>Y</th>\n",
       "      <th>0</th>\n",
       "      <th>1</th>\n",
       "      <th>Total</th>\n",
       "      <th>Acceptance Rate</th>\n",
       "    </tr>\n",
       "    <tr>\n",
       "      <th>income</th>\n",
       "      <th>passanger</th>\n",
       "      <th>age</th>\n",
       "      <th></th>\n",
       "      <th></th>\n",
       "      <th></th>\n",
       "      <th></th>\n",
       "    </tr>\n",
       "  </thead>\n",
       "  <tbody>\n",
       "    <tr>\n",
       "      <th rowspan=\"5\" valign=\"top\">$100000 or More</th>\n",
       "      <th rowspan=\"5\" valign=\"top\">Alone</th>\n",
       "      <th>21</th>\n",
       "      <td>30</td>\n",
       "      <td>25</td>\n",
       "      <td>55</td>\n",
       "      <td>0.454545</td>\n",
       "    </tr>\n",
       "    <tr>\n",
       "      <th>26</th>\n",
       "      <td>18</td>\n",
       "      <td>33</td>\n",
       "      <td>51</td>\n",
       "      <td>0.647059</td>\n",
       "    </tr>\n",
       "    <tr>\n",
       "      <th>31</th>\n",
       "      <td>41</td>\n",
       "      <td>18</td>\n",
       "      <td>59</td>\n",
       "      <td>0.305085</td>\n",
       "    </tr>\n",
       "    <tr>\n",
       "      <th>36</th>\n",
       "      <td>31</td>\n",
       "      <td>18</td>\n",
       "      <td>49</td>\n",
       "      <td>0.367347</td>\n",
       "    </tr>\n",
       "    <tr>\n",
       "      <th>41</th>\n",
       "      <td>19</td>\n",
       "      <td>8</td>\n",
       "      <td>27</td>\n",
       "      <td>0.296296</td>\n",
       "    </tr>\n",
       "    <tr>\n",
       "      <th>...</th>\n",
       "      <th>...</th>\n",
       "      <th>...</th>\n",
       "      <td>...</td>\n",
       "      <td>...</td>\n",
       "      <td>...</td>\n",
       "      <td>...</td>\n",
       "    </tr>\n",
       "    <tr>\n",
       "      <th rowspan=\"5\" valign=\"top\">Less than $12500</th>\n",
       "      <th>Friend(s)</th>\n",
       "      <th>below21</th>\n",
       "      <td>3</td>\n",
       "      <td>6</td>\n",
       "      <td>9</td>\n",
       "      <td>0.666667</td>\n",
       "    </tr>\n",
       "    <tr>\n",
       "      <th rowspan=\"2\" valign=\"top\">Kid(s)</th>\n",
       "      <th>21</th>\n",
       "      <td>0</td>\n",
       "      <td>4</td>\n",
       "      <td>4</td>\n",
       "      <td>1.000000</td>\n",
       "    </tr>\n",
       "    <tr>\n",
       "      <th>41</th>\n",
       "      <td>0</td>\n",
       "      <td>1</td>\n",
       "      <td>1</td>\n",
       "      <td>1.000000</td>\n",
       "    </tr>\n",
       "    <tr>\n",
       "      <th rowspan=\"2\" valign=\"top\">Partner</th>\n",
       "      <th>21</th>\n",
       "      <td>9</td>\n",
       "      <td>2</td>\n",
       "      <td>11</td>\n",
       "      <td>0.181818</td>\n",
       "    </tr>\n",
       "    <tr>\n",
       "      <th>below21</th>\n",
       "      <td>5</td>\n",
       "      <td>1</td>\n",
       "      <td>6</td>\n",
       "      <td>0.166667</td>\n",
       "    </tr>\n",
       "  </tbody>\n",
       "</table>\n",
       "<p>248 rows × 4 columns</p>\n",
       "</div>"
      ],
      "text/plain": [
       "Y                                    0   1  Total  Acceptance Rate\n",
       "income           passanger age                                    \n",
       "$100000 or More  Alone     21       30  25     55         0.454545\n",
       "                           26       18  33     51         0.647059\n",
       "                           31       41  18     59         0.305085\n",
       "                           36       31  18     49         0.367347\n",
       "                           41       19   8     27         0.296296\n",
       "...                                 ..  ..    ...              ...\n",
       "Less than $12500 Friend(s) below21   3   6      9         0.666667\n",
       "                 Kid(s)    21        0   4      4         1.000000\n",
       "                           41        0   1      1         1.000000\n",
       "                 Partner   21        9   2     11         0.181818\n",
       "                           below21   5   1      6         0.166667\n",
       "\n",
       "[248 rows x 4 columns]"
      ]
     },
     "execution_count": 57,
     "metadata": {},
     "output_type": "execute_result"
    }
   ],
   "source": [
    "# Compare acceptance rates based on income and age\n",
    "coffee_income_age_acceptance = coffee_house_frame.groupby(['income', 'passanger', 'age','Y']).size().unstack(fill_value=0)\n",
    "coffee_income_age_acceptance['Total'] = coffee_income_age_acceptance.sum(axis=1)\n",
    "coffee_income_age_acceptance['Acceptance Rate'] = coffee_income_age_acceptance[1] / coffee_income_age_acceptance['Total']\n",
    "coffee_income_age_acceptance"
   ]
  },
  {
   "cell_type": "code",
   "execution_count": null,
   "metadata": {
    "execution": {
     "iopub.execute_input": "2025-05-07T08:22:40.741966Z",
     "iopub.status.busy": "2025-05-07T08:22:40.741632Z",
     "iopub.status.idle": "2025-05-07T08:22:41.372140Z",
     "shell.execute_reply": "2025-05-07T08:22:41.370897Z",
     "shell.execute_reply.started": "2025-05-07T08:22:40.741943Z"
    },
    "id": "fTC2WGE3_qRL",
    "trusted": true
   },
   "outputs": [
    {
     "data": {
      "image/png": "[encoded data removed]",
      "text/plain": [
       "<Figure size 1000x600 with 1 Axes>"
      ]
     },
     "metadata": {},
     "output_type": "display_data"
    }
   ],
   "source": [
    "# Visualize the relationship between income and acceptance rate\n",
    "plt.figure(figsize=(10, 6))\n",
    "sns.barplot(x='income', y='Acceptance Rate', data=coffee_income_age_acceptance.reset_index())\n",
    "plt.title('Coffee House Coupon Acceptance Rate by Income')\n",
    "plt.xlabel('Income')\n",
    "plt.ylabel('Acceptance Rate')\n",
    "plt.xticks(rotation=45, ha='right')\n",
    "plt.tight_layout()\n",
    "plt.savefig('/images/income_acc_rate.png')\n",
    "plt.show()"
   ]
  },
  {
   "cell_type": "markdown",
   "metadata": {},
   "source": [
    "From the visualizations, the following conclusions can be drawn:\n",
    "\n",
    "* People 21 years old, and under the age of 21 seem to have the highest acceptance rate for coffee house coupons.\n",
    "* From an income standpoint, there seems to be a close match between less than $12500 and the $87500-$99999 income brackets. $37500-$49999 and $12500-$24999 are also not that far off, which indicates there might not be strong correlation between income and the coffee house coupons.\n",
    "* It also appears that people with friends or a partner in the car tend to have a higher acceptance rate v/s driving just by themselves or with kids in the car."
   ]
  },
  {
   "cell_type": "markdown",
   "metadata": {},
   "source": []
  },
  {
   "cell_type": "markdown",
   "metadata": {},
   "source": []
  },
  {
   "cell_type": "code",
   "execution_count": null,
   "metadata": {
    "id": "_oykf8YP_qRL"
   },
   "outputs": [],
   "source": []
  }
 ],
 "metadata": {
  "colab": {
   "provenance": []
  },
  "kaggle": {
   "accelerator": "none",
   "dataSources": [
    {
     "datasetId": 7329199,
     "sourceId": 11677555,
     "sourceType": "datasetVersion"
    }
   ],
   "dockerImageVersionId": 31012,
   "isGpuEnabled": false,
   "isInternetEnabled": true,
   "language": "python",
   "sourceType": "notebook"
  },
  "kernelspec": {
   "display_name": "Python 3",
   "language": "python",
   "name": "python3"
  },
  "language_info": {
   "codemirror_mode": {
    "name": "ipython",
    "version": 3
   },
   "file_extension": ".py",
   "mimetype": "text/x-python",
   "name": "python",
   "nbconvert_exporter": "python",
   "pygments_lexer": "ipython3",
   "version": "3.11.11"
  }
 },
 "nbformat": 4,
 "nbformat_minor": 4
}
